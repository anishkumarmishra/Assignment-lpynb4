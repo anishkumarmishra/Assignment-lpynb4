{
  "nbformat": 4,
  "nbformat_minor": 0,
  "metadata": {
    "colab": {
      "provenance": []
    },
    "kernelspec": {
      "name": "python3",
      "display_name": "Python 3"
    },
    "language_info": {
      "name": "python"
    }
  },
  "cells": [
    {
      "cell_type": "markdown",
      "source": [
        "####1. What exactly is []?\n",
        "Answer :- [ ] is a empty list, like a =[ ]"
      ],
      "metadata": {
        "id": "Jm2ChxMmB9T9"
      }
    },
    {
      "cell_type": "markdown",
      "source": [
        "####2. In a list of values stored in a variable called spam, how would you assign the value \"hello\" as the\n",
        "third value? (Assume [2, 4, 6, 8, 10] are in spam.)\n",
        "\n",
        "####Let's pretend the spam includes the list ['a','b','c','d'] for the next three queries."
      ],
      "metadata": {
        "id": "FG0SN9XGDNEx"
      }
    },
    {
      "cell_type": "code",
      "source": [
        "#Answer\n",
        "spam=[2,4,6,8,10]\n",
        "spam[2]=\"hello\"\n",
        "spam"
      ],
      "metadata": {
        "colab": {
          "base_uri": "https://localhost:8080/"
        },
        "id": "7ACVPCxlFAeH",
        "outputId": "58be33d7-448f-4137-c013-712d06758419"
      },
      "execution_count": 74,
      "outputs": [
        {
          "output_type": "execute_result",
          "data": {
            "text/plain": [
              "[2, 4, 'hello', 8, 10]"
            ]
          },
          "metadata": {},
          "execution_count": 74
        }
      ]
    },
    {
      "cell_type": "markdown",
      "source": [
        "####3. What is the value of spam[int(int(3 * 2) / 11)]?"
      ],
      "metadata": {
        "id": "kFh5u04oGpcj"
      }
    },
    {
      "cell_type": "code",
      "source": [
        "#Answer\n",
        "spam=['a', 'b','c','d']\n",
        "spam[int(int(\"3\" * 2) / 11)]"
      ],
      "metadata": {
        "colab": {
          "base_uri": "https://localhost:8080/",
          "height": 36
        },
        "id": "L5-CytAFHlLO",
        "outputId": "4c8bb0a1-6ef9-4ad2-a87e-cfa779f89b74"
      },
      "execution_count": 75,
      "outputs": [
        {
          "output_type": "execute_result",
          "data": {
            "text/plain": [
              "'d'"
            ],
            "application/vnd.google.colaboratory.intrinsic+json": {
              "type": "string"
            }
          },
          "metadata": {},
          "execution_count": 75
        }
      ]
    },
    {
      "cell_type": "markdown",
      "source": [
        "####4. What is the value of spam[-1]?"
      ],
      "metadata": {
        "id": "oHyGLDmVljtA"
      }
    },
    {
      "cell_type": "code",
      "source": [
        "#Answer\n",
        "spam=['a','b','c','d']\n",
        "spam[-1]"
      ],
      "metadata": {
        "colab": {
          "base_uri": "https://localhost:8080/",
          "height": 36
        },
        "id": "-b_N8UWKlt9q",
        "outputId": "13bf753d-18ae-4d88-cce0-6ee1033e2671"
      },
      "execution_count": 76,
      "outputs": [
        {
          "output_type": "execute_result",
          "data": {
            "text/plain": [
              "'d'"
            ],
            "application/vnd.google.colaboratory.intrinsic+json": {
              "type": "string"
            }
          },
          "metadata": {},
          "execution_count": 76
        }
      ]
    },
    {
      "cell_type": "markdown",
      "source": [
        "####5. What is the value of spam[:2]?\n"
      ],
      "metadata": {
        "id": "t_IRo6ElnSpi"
      }
    },
    {
      "cell_type": "code",
      "source": [
        "#Answer\n",
        "spam= ['a','b','c','d']\n",
        "spam[:2]"
      ],
      "metadata": {
        "colab": {
          "base_uri": "https://localhost:8080/"
        },
        "id": "I9tKRGi3nb9a",
        "outputId": "451dfe2f-fa13-4cbf-ced6-8ec7d501dc57"
      },
      "execution_count": 77,
      "outputs": [
        {
          "output_type": "execute_result",
          "data": {
            "text/plain": [
              "['a', 'b']"
            ]
          },
          "metadata": {},
          "execution_count": 77
        }
      ]
    },
    {
      "cell_type": "markdown",
      "source": [
        "####***Let's pretend bacon has the list [3.14,'cat', 11,'cat',True] for the next three questions.***\n",
        "####6. What is the value of bacon.index('cat')?"
      ],
      "metadata": {
        "id": "6onLfKPEoSm0"
      }
    },
    {
      "cell_type": "code",
      "source": [
        "bacon = [3.14, 'cat', 11, 'cat', True]\n",
        "bacon.index('cat') # it returns the index of first occurrence of 'cat'"
      ],
      "metadata": {
        "colab": {
          "base_uri": "https://localhost:8080/"
        },
        "id": "Seui09ImpFI4",
        "outputId": "b8e61d16-eba5-45e6-9b73-6a4cd92fe0a7"
      },
      "execution_count": 78,
      "outputs": [
        {
          "output_type": "execute_result",
          "data": {
            "text/plain": [
              "1"
            ]
          },
          "metadata": {},
          "execution_count": 78
        }
      ]
    },
    {
      "cell_type": "markdown",
      "source": [
        "####7. How does bacon.append(99) change the look of the list value in bacon?"
      ],
      "metadata": {
        "id": "H3LhLx5254gC"
      }
    },
    {
      "cell_type": "code",
      "source": [
        "bacon = [3.14, 'cat', 11, 'cat', True]\n",
        "bacon.append(99)\n",
        "bacon"
      ],
      "metadata": {
        "colab": {
          "base_uri": "https://localhost:8080/"
        },
        "id": "8ek1fZp96Xi_",
        "outputId": "5e117c11-53b3-48a3-d267-414ac0750393"
      },
      "execution_count": 79,
      "outputs": [
        {
          "output_type": "execute_result",
          "data": {
            "text/plain": [
              "[3.14, 'cat', 11, 'cat', True, 99]"
            ]
          },
          "metadata": {},
          "execution_count": 79
        }
      ]
    },
    {
      "cell_type": "markdown",
      "source": [
        "####8. How does bacon.remove('cat') change the look of the list in bacon?"
      ],
      "metadata": {
        "id": "Yf1ffZk562Ce"
      }
    },
    {
      "cell_type": "code",
      "source": [
        "bacon = [3.14, 'cat', 11, 'cat', True]\n",
        "bacon.remove('cat')\n",
        "bacon"
      ],
      "metadata": {
        "colab": {
          "base_uri": "https://localhost:8080/"
        },
        "id": "KrxOibpc6_XF",
        "outputId": "533228f8-80da-48ab-fbf1-998152c149bf"
      },
      "execution_count": 80,
      "outputs": [
        {
          "output_type": "execute_result",
          "data": {
            "text/plain": [
              "[3.14, 11, 'cat', True]"
            ]
          },
          "metadata": {},
          "execution_count": 80
        }
      ]
    },
    {
      "cell_type": "markdown",
      "source": [
        "####9. What are the list concatenation and list replication operators?\n",
        "Answer :- (*) is list replication operator (+) is list concatention operators"
      ],
      "metadata": {
        "id": "4NCilgzq7TCM"
      }
    },
    {
      "cell_type": "code",
      "source": [
        "l1=[1,2]\n",
        "l2=[2,3]\n",
        "l1+l2"
      ],
      "metadata": {
        "colab": {
          "base_uri": "https://localhost:8080/"
        },
        "id": "wO8Xq2pg94yE",
        "outputId": "c6a33733-0fa2-4e11-f309-f4b12e24777d"
      },
      "execution_count": 81,
      "outputs": [
        {
          "output_type": "execute_result",
          "data": {
            "text/plain": [
              "[1, 2, 2, 3]"
            ]
          },
          "metadata": {},
          "execution_count": 81
        }
      ]
    },
    {
      "cell_type": "code",
      "source": [
        "l1=[1,2]\n",
        "l1*3"
      ],
      "metadata": {
        "colab": {
          "base_uri": "https://localhost:8080/"
        },
        "id": "wVFufoNU-Dg-",
        "outputId": "1daad4b4-9aa7-4340-8bd7-94ad0aff02d5"
      },
      "execution_count": 82,
      "outputs": [
        {
          "output_type": "execute_result",
          "data": {
            "text/plain": [
              "[1, 2, 1, 2, 1, 2]"
            ]
          },
          "metadata": {},
          "execution_count": 82
        }
      ]
    },
    {
      "cell_type": "markdown",
      "source": [
        "####10. What is difference between the list methods append() and insert()?\n",
        "Answer :- append() Appends object to the end of the list\n",
        "insert() Insert object before index"
      ],
      "metadata": {
        "id": "oLzfuljGCaOr"
      }
    },
    {
      "cell_type": "code",
      "source": [
        "bacon = [3.14, 'cat', 11, 'cat', True]\n",
        "bacon.append(99)  # append adds the item at the end of the list\n",
        "bacon"
      ],
      "metadata": {
        "colab": {
          "base_uri": "https://localhost:8080/"
        },
        "id": "uJzWM55YQtsf",
        "outputId": "4054f5dc-430d-472b-a8b1-32e4800304a1"
      },
      "execution_count": 83,
      "outputs": [
        {
          "output_type": "execute_result",
          "data": {
            "text/plain": [
              "[3.14, 'cat', 11, 'cat', True, 99]"
            ]
          },
          "metadata": {},
          "execution_count": 83
        }
      ]
    },
    {
      "cell_type": "code",
      "source": [
        "spam = [2, 4, 6, 8, 10]\n",
        "spam.insert(3,'hello') # inserting value in 3rd index\n",
        "spam"
      ],
      "metadata": {
        "colab": {
          "base_uri": "https://localhost:8080/"
        },
        "id": "GvsubIEcQ-3q",
        "outputId": "6ad9c653-dd75-48ba-9837-69c4c7621338"
      },
      "execution_count": 84,
      "outputs": [
        {
          "output_type": "execute_result",
          "data": {
            "text/plain": [
              "[2, 4, 6, 'hello', 8, 10]"
            ]
          },
          "metadata": {},
          "execution_count": 84
        }
      ]
    },
    {
      "cell_type": "markdown",
      "source": [
        "####11. What are the two methods for removing items from a list?"
      ],
      "metadata": {
        "id": "3c76ereMR5eb"
      }
    },
    {
      "cell_type": "code",
      "source": [
        "#remove(item) - removeds first occurence of a item\n",
        "bacon = [3.14, 'cat', 11, 'cat', True]\n",
        "bacon.remove('cat')\n",
        "bacon"
      ],
      "metadata": {
        "colab": {
          "base_uri": "https://localhost:8080/"
        },
        "id": "jvcMWIWCT-po",
        "outputId": "d88fa65e-e145-4fed-d023-41bd2a248bb8"
      },
      "execution_count": 85,
      "outputs": [
        {
          "output_type": "execute_result",
          "data": {
            "text/plain": [
              "[3.14, 11, 'cat', True]"
            ]
          },
          "metadata": {},
          "execution_count": 85
        }
      ]
    },
    {
      "cell_type": "code",
      "source": [
        "#pop() - Remove and returns item at index (default last).\n",
        "bacon = [3.14, 'cat', 11, 'cat']\n",
        "bacon.pop()\n",
        "bacon"
      ],
      "metadata": {
        "colab": {
          "base_uri": "https://localhost:8080/"
        },
        "id": "wXe28-LOT_tq",
        "outputId": "9d73ecfc-10ce-47c5-cae5-6e11a7defa1d"
      },
      "execution_count": 86,
      "outputs": [
        {
          "output_type": "execute_result",
          "data": {
            "text/plain": [
              "[3.14, 'cat', 11]"
            ]
          },
          "metadata": {},
          "execution_count": 86
        }
      ]
    },
    {
      "cell_type": "markdown",
      "source": [
        "####12. Describe how list values and string values are identical.\n",
        "#####1.Both lists and strings can be passed to len()\n",
        "#####2.Have indexes and slices\n",
        "#####3.Can be used in for loops\n",
        "#####4.Can be concatenated or replicated\n",
        "#####5.Can be used with the in and not in operators"
      ],
      "metadata": {
        "id": "vyxmIBrQVcNb"
      }
    },
    {
      "cell_type": "markdown",
      "source": [
        "####13. What's the difference between tuples and lists?\n",
        "Answer :- Lists : are mutable - they can have values added, removed, or changed. lists use the square brackets, [ and ]\n",
        "\n",
        "Tuples : are immutable; they cannot be changed at all. Tuples are written using parentheses, ( and )"
      ],
      "metadata": {
        "id": "FfVT72cJW7j1"
      }
    },
    {
      "cell_type": "markdown",
      "source": [
        "####14. How do you type a tuple value that only contains the integer 42?"
      ],
      "metadata": {
        "id": "K2_Q8f3JXoOp"
      }
    },
    {
      "cell_type": "code",
      "source": [
        "tuple=(42)\n",
        "tuple"
      ],
      "metadata": {
        "colab": {
          "base_uri": "https://localhost:8080/"
        },
        "id": "tSJmi1PrYBrh",
        "outputId": "0b4b1a21-b8aa-4196-b5f5-00b66cc90d3a"
      },
      "execution_count": 87,
      "outputs": [
        {
          "output_type": "execute_result",
          "data": {
            "text/plain": [
              "42"
            ]
          },
          "metadata": {},
          "execution_count": 87
        }
      ]
    },
    {
      "cell_type": "markdown",
      "source": [
        "####15. How do you get a list value's tuple form? How do you get a tuple value's list form?"
      ],
      "metadata": {
        "id": "xBUdOFbAYYOo"
      }
    },
    {
      "cell_type": "code",
      "source": [
        "t1 = (3,4)\n",
        "t = list(t1)\n",
        "t"
      ],
      "metadata": {
        "colab": {
          "base_uri": "https://localhost:8080/"
        },
        "id": "Ih7rZ0GZdcCo",
        "outputId": "3a8da90c-3587-45fb-d8e5-cc6dfa3cb893"
      },
      "execution_count": 89,
      "outputs": [
        {
          "output_type": "execute_result",
          "data": {
            "text/plain": [
              "[3, 4]"
            ]
          },
          "metadata": {},
          "execution_count": 89
        }
      ]
    },
    {
      "cell_type": "code",
      "source": [
        "l1 = [2,3]\n",
        "l = tuple(l1)\n",
        "l"
      ],
      "metadata": {
        "colab": {
          "base_uri": "https://localhost:8080/",
          "height": 200
        },
        "id": "BR-UNq2AdiSK",
        "outputId": "1eae52e6-1e38-4784-a732-140a86c7a805"
      },
      "execution_count": 90,
      "outputs": [
        {
          "output_type": "error",
          "ename": "TypeError",
          "evalue": "ignored",
          "traceback": [
            "\u001b[0;31m---------------------------------------------------------------------------\u001b[0m",
            "\u001b[0;31mTypeError\u001b[0m                                 Traceback (most recent call last)",
            "\u001b[0;32m<ipython-input-90-6cca7f97b596>\u001b[0m in \u001b[0;36m<module>\u001b[0;34m\u001b[0m\n\u001b[1;32m      1\u001b[0m \u001b[0ml1\u001b[0m \u001b[0;34m=\u001b[0m \u001b[0;34m[\u001b[0m\u001b[0;36m2\u001b[0m\u001b[0;34m,\u001b[0m\u001b[0;36m3\u001b[0m\u001b[0;34m]\u001b[0m\u001b[0;34m\u001b[0m\u001b[0;34m\u001b[0m\u001b[0m\n\u001b[0;32m----> 2\u001b[0;31m \u001b[0ml\u001b[0m \u001b[0;34m=\u001b[0m \u001b[0mtuple\u001b[0m\u001b[0;34m(\u001b[0m\u001b[0ml1\u001b[0m\u001b[0;34m)\u001b[0m\u001b[0;34m\u001b[0m\u001b[0;34m\u001b[0m\u001b[0m\n\u001b[0m\u001b[1;32m      3\u001b[0m \u001b[0ml\u001b[0m\u001b[0;34m\u001b[0m\u001b[0;34m\u001b[0m\u001b[0m\n",
            "\u001b[0;31mTypeError\u001b[0m: 'int' object is not callable"
          ]
        }
      ]
    },
    {
      "cell_type": "markdown",
      "source": [
        "####16. Variables that &quot;contain&quot; list values are not necessarily lists themselves. Instead, what do they contain?\n",
        "Answer :- They contain references to list values"
      ],
      "metadata": {
        "id": "zmeCHJicc0es"
      }
    },
    {
      "cell_type": "markdown",
      "source": [
        "####17. How do you distinguish between copy.copy() and copy.deepcopy()?\n",
        "Answer :- The copy.copy() function will do a shallow copy of a list,\n",
        "The copy.deepcopy() function will do a deep copy of a list. only copy.deepcopy() will duplicate any lists inside the list"
      ],
      "metadata": {
        "id": "dDWcGS76eWeP"
      }
    }
  ]
}